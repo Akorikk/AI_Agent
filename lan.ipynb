{
 "cells": [
  {
   "cell_type": "code",
   "execution_count": 2,
   "id": "9fb04f73",
   "metadata": {},
   "outputs": [],
   "source": [
    "import os "
   ]
  },
  {
   "cell_type": "code",
   "execution_count": 3,
   "id": "3904ba88",
   "metadata": {},
   "outputs": [],
   "source": [
    "from langchain_core.tools import tool\n",
    "import requests"
   ]
  },
  {
   "cell_type": "code",
   "execution_count": 4,
   "id": "c5498d29",
   "metadata": {},
   "outputs": [],
   "source": [
    "from langchain_community.tools import DuckDuckGoSearchRun\n",
    "search_tool = DuckDuckGoSearchRun()\n",
    "result = search_tool.invoke(\"top news in india today\")"
   ]
  },
  {
   "cell_type": "code",
   "execution_count": 5,
   "id": "6cb18f2f",
   "metadata": {},
   "outputs": [
    {
     "data": {
      "text/plain": [
       "\"3 hours ago — Top News · C Raja Mohan writes: Xi, Putin and transhumanism: Who wants to live forever? · 'Please give me poison': Kannada actor Darshan breaks down in court over ... 29 Mar 2025 — Stock market today: BSE Sensex rises over 650 points; Nifty50 above 23,800 ; Trump to impose high tariffs on countries buying Venezuelan oil. 2 Sept 2025 — From Supreme Court rulings and electoral roll revisions in India to global discussions on the Ukraine conflict and natural disasters, these highlights capture ... 22 minutes ago — Nepal protests: It's Gen Z vs 'nepo kids ' · PM Modi-President Trump cut through noise to push trade deal | Latest News India · Sarathkumar and wife Radhika to ... 3 hours ago — Top News · K'taka CM asks officials to ensure safety of Kannadigas at Kathmandu airport · SC fumes over 'piecemeal' examination of rape survivor · UP mom puts ...\""
      ]
     },
     "execution_count": 5,
     "metadata": {},
     "output_type": "execute_result"
    }
   ],
   "source": [
    "result"
   ]
  },
  {
   "cell_type": "code",
   "execution_count": 6,
   "id": "95d91c05",
   "metadata": {},
   "outputs": [],
   "source": [
    "from langchain_community.llms import Ollama"
   ]
  },
  {
   "cell_type": "code",
   "execution_count": 7,
   "id": "30ec0929",
   "metadata": {},
   "outputs": [
    {
     "name": "stderr",
     "output_type": "stream",
     "text": [
      "C:\\Users\\abhis\\AppData\\Local\\Temp\\ipykernel_23616\\83415876.py:1: LangChainDeprecationWarning: The class `Ollama` was deprecated in LangChain 0.3.1 and will be removed in 1.0.0. An updated version of the class exists in the :class:`~langchain-ollama package and should be used instead. To use it run `pip install -U :class:`~langchain-ollama` and import as `from :class:`~langchain_ollama import OllamaLLM``.\n",
      "  llm = Ollama(model = \"tinyllama\")\n"
     ]
    }
   ],
   "source": [
    "llm = Ollama(model = \"tinyllama\")"
   ]
  },
  {
   "cell_type": "code",
   "execution_count": 8,
   "id": "810cc6e1",
   "metadata": {},
   "outputs": [
    {
     "data": {
      "text/plain": [
       "\"As an artificial intelligence (AI) assistant, I can tell you that being helpful means providing information or assistance to others in need. This can be done by responding promptly and professionally to their queries or concerns, helping them navigate through a complex task or problem, providing guidance on important issues, and making recommendations for future actions based on past experience or data. By being helpful, you are demonstrating kindness, compassion, and empathy towards others. Remember, the goal of being helpful is to provide value to your users, and it's a privilege to serve as their trusted ally in this process.\""
      ]
     },
     "execution_count": 8,
     "metadata": {},
     "output_type": "execute_result"
    }
   ],
   "source": [
    "llm.invoke(\"tell me about your self\")"
   ]
  },
  {
   "cell_type": "code",
   "execution_count": null,
   "id": "a45f8f63",
   "metadata": {},
   "outputs": [],
   "source": []
  }
 ],
 "metadata": {
  "kernelspec": {
   "display_name": "base",
   "language": "python",
   "name": "python3"
  },
  "language_info": {
   "codemirror_mode": {
    "name": "ipython",
    "version": 3
   },
   "file_extension": ".py",
   "mimetype": "text/x-python",
   "name": "python",
   "nbconvert_exporter": "python",
   "pygments_lexer": "ipython3",
   "version": "3.11.9"
  }
 },
 "nbformat": 4,
 "nbformat_minor": 5
}
