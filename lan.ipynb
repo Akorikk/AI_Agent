{
 "cells": [
  {
   "cell_type": "code",
   "execution_count": 1,
   "id": "9fb04f73",
   "metadata": {},
   "outputs": [],
   "source": [
    "import os "
   ]
  },
  {
   "cell_type": "code",
   "execution_count": 2,
   "id": "3904ba88",
   "metadata": {},
   "outputs": [],
   "source": [
    "from langchain_core.tools import tool\n",
    "import requests"
   ]
  },
  {
   "cell_type": "code",
   "execution_count": 31,
   "id": "919a3edd",
   "metadata": {},
   "outputs": [],
   "source": [
    "from langchain_groq import ChatGroq\n",
    "\n",
    "# Initialize the Groq language model\n",
    "llm = ChatGroq(\n",
    "    temperature=0,  # Controls the randomness of the output\n",
    "    model=\"llama-3.3-70b-versatile\", # Specify the model name\n",
    "    api_key=os.getenv(\"GROQ_API_KEY\") # Access the API key from environment variables\n",
    ")"
   ]
  },
  {
   "cell_type": "code",
   "execution_count": 32,
   "id": "c5498d29",
   "metadata": {},
   "outputs": [],
   "source": [
    "from langchain_community.tools import DuckDuckGoSearchRun\n",
    "search_tool = DuckDuckGoSearchRun()\n",
    "result = search_tool.invoke(\"top news in india today\")"
   ]
  },
  {
   "cell_type": "code",
   "execution_count": 33,
   "id": "6cb18f2f",
   "metadata": {},
   "outputs": [
    {
     "data": {
      "text/plain": [
       "\"11 hours ago - India News | Latest India News | Read latest and breaking news from India . Today ' s top India news headlines, news on Indian politics, elections, government, business, technology, and Bollywood. 1 day ago - Latest News India : Get the breaking news from India on indian government, economic developments, entertainment, technology, lifestyle & more. Find comprehensive updates and insights from Business Standard. 11 hours ago - Latest news headlines from India & around the world. Check out today ’ s news coverage live with videos & photos on NDTV.com. 1 day ago - Get all the latest news headlines from India and around the world. Explore more for today ’ s news coverage with videos & photos on Business Standard. 16 hours ago - Newsletters The Indian Express Newsletter. (Opens in new window) ... News Today Live Updates: Get the latest news updates from India and all around the world.\""
      ]
     },
     "execution_count": 33,
     "metadata": {},
     "output_type": "execute_result"
    }
   ],
   "source": [
    "result"
   ]
  },
  {
   "cell_type": "code",
   "execution_count": 34,
   "id": "a45f8f63",
   "metadata": {},
   "outputs": [],
   "source": [
    "from langchain.agents import create_react_agent, AgentExecutor\n",
    "from langchain import hub"
   ]
  },
  {
   "cell_type": "code",
   "execution_count": 35,
   "id": "be485d79",
   "metadata": {},
   "outputs": [],
   "source": [
    "prompt = hub.pull(\"hwchase17/react\")"
   ]
  },
  {
   "cell_type": "code",
   "execution_count": 36,
   "id": "5cc3cede",
   "metadata": {},
   "outputs": [],
   "source": [
    "# create the react agent manually with the pulled prompt \n",
    "agent = create_react_agent(\n",
    "    llm=llm,\n",
    "    tools=[search_tool],\n",
    "    prompt=prompt\n",
    ")"
   ]
  },
  {
   "cell_type": "code",
   "execution_count": 37,
   "id": "22bff1bc",
   "metadata": {},
   "outputs": [],
   "source": [
    "# AgentsExecutor\n",
    "agent_executor = AgentExecutor(\n",
    "    agent=agent,\n",
    "    tools=[search_tool],\n",
    "    verbose=True\n",
    ")"
   ]
  },
  {
   "cell_type": "code",
   "execution_count": 38,
   "id": "4cde85a7",
   "metadata": {},
   "outputs": [
    {
     "name": "stdout",
     "output_type": "stream",
     "text": [
      "\n",
      "\n",
      "\u001b[1m> Entering new AgentExecutor chain...\u001b[0m\n",
      "\u001b[32;1m\u001b[1;3mTo find the ways to reach Goa from Delhi, I should first consider the common modes of transportation available in India, such as flights, trains, and buses. However, to provide more specific and up-to-date information, I should search for the latest options.\n",
      "\n",
      "Action: duckduckgo_search\n",
      "Action Input: ways to reach Goa from Delhi\n",
      "\n",
      "(I'll wait for the search results to proceed further)\u001b[0m\u001b[36;1m\u001b[1;3mThe Delhi sultanate reached its greatest extent during the reign of Muhammad bin Tughluq (1325–1351). In an attempt to bring the whole of the Deccan under control, he moved his capital to Daulatabad, Maharashtra in central India. 15 Jan 2025 — Find flights to Goa from ₹ 1851. Fly to Goa on Air India, Air India Express, IndiGo & more . Search for Goa flights on KAYAK now to find the best deal ... 14 Aug 2025 — Find flights to Goa from €257. Fly to Goa on KLM, IndiGo, Air India & more . Search for Goa flights on KAYAK now to find the best deal | KAYAK. You may take a flight as a quick way to reach Goa , or even train would do. It may cost you 15000–20,00 depends on your travel food , stay and activities. 19 Jun 2025 — I usually suggest to my friends that are visiting India for the first time to start their trip somewhere easier like Goa or Kerala and then work their way up to ...\u001b[0m\u001b[32;1m\u001b[1;3mBased on the search results, it seems that there are multiple ways to reach Goa from Delhi, including flights and trains. The cost of traveling to Goa can vary depending on the mode of transportation, accommodation, and activities.\n",
      "\n",
      "Action: duckduckgo_search\n",
      "Action Input: train from Delhi to Goa\n",
      "\n",
      "(I'll wait for the search results to get more information about trains)\u001b[0m\u001b[36;1m\u001b[1;3m2 Jul 2025 — A beginner's guide to train travel in India, with information on train times, fares, & how to buy tickets, Indrail passes, Indian train travel tips plus ... 28 Aug 2025 — ... Learn how to plan better train journeys across India ... It includes journey date, seat number, coach, train number, passenger information , and current status. Mentioning the following details will get you the best support: Train Name/Number. Class of travel . Date of journey. Source Station. Destination Station. 1️⃣ For Trains Departing Between 05:00 HRS to 14:00 HRS ➡️ The first reservation chart will be prepared on the previous day at 21:00 HRS. 2️⃣ For Trains Departing ... First you will have to have a wait -listed train ticket booked three days prior to the date of journey and not confirmed at the time of chart preparation. Only ...\u001b[0m\u001b[32;1m\u001b[1;3mBased on the search results, it seems that there are multiple ways to reach Goa from Delhi, including flights and trains. The cost of traveling to Goa can vary depending on the mode of transportation, accommodation, and activities. To provide more specific information, I should also consider buses and other modes of transportation.\n",
      "\n",
      "Action: duckduckgo_search\n",
      "Action Input: bus from Delhi to Goa\n",
      "\n",
      "(I'll wait for the search results to get more information about buses)\u001b[0m\u001b[36;1m\u001b[1;3mTo check real-time seat availability for buses traveling from Delhi to Goa route, simply visit AbhiBus and choose your preferred bus service seats section. With AbhiBus, travellers can easily check the number of available seats, types of seats, and ticket prices. Home to some of the oldest heritage sites in India as well as the country’s capital, Delhi is often the go- to destination for tourists. UNESCO Heritage monuments like the Qutub Minar, Red Fort and Jama Masjid are some of its top attractions. A delicate compilation of nature, concrete, and heritage keeps city life thriving in Delhi . Visit this city ... See full list on makemytrip.com As a centre of the country’s tourism, Delhi leaves you with a plethora of visiting options to explore. Be it the city’s very own Chandni Chowk with its bustling bylanes, the striking serenity of Bangla Sahib, or the Rashtrapati Bhavan’s alluring Mughal Garden, Delhi offers something of its own to everyone. The city’s prepossessed beauty lies in its... See full list on makemytrip.com Along with some of the best cuisines, Delhi serves your platter with rich aesthetics through its dedicated cafes and restaurants too. Some chic cafes to explore and imbibe the beauty and culture include the likes of Raasta, Farzi Cafe, Big Yellow Door, Echos, and Diggin. If you are looking forward to exploring cuisines and being soaked in the city’... See full list on makemytrip.com MakeMyTrip brings a host of providers to make your Delhi bus ticket booking with. While the fares are reasonable here, the Delhi bus ticket pricecan vary based on factors like the dates you choose for travel, the operator selected, the available facilities and the boarding destination. Choice of seating for bus ticket booking includes sleepers, sem... See full list on makemytrip.com Along with its perfect crossover of the old and new world charm, Delhi is also known for its huge appetite. This is clearly reflected in the relishing dishes that it has to offer. Explore a range of innovative and palatable paranthas at the famous Parathe Wali Galli, with simple flatbreads prepared from tawa roasts to the delectable bedmi poori for ... See full list on makemytrip.com Cover your Delhi to Goa trip now on your choice of bus from available options like sleeper, seater, semi-sleeper, AC, non-AC, Volvo buses and more. Choose a bus to Goa from Delhi as per your timing and make quick booking. Book New Delhi to Goa Bus tickets online with RailYatri and experience the safe, secure and comfortable bus journey. Reserve your bus seat today! Delhi to Goa bus ticket booking made easy. Reserve your Delhi to Goa bus ticket online with lowest fares and instant seat confirmation. Book New Delhi to Goa Bus tickets online booking - Use code NEWBUS and avail Flat 20% Off on Bus Booking at Yatra.com. See New Delhi to Goa bus routes, time table, distance, ticket price & other details to enjoy hassle free journey. How to book Delhi to Goa bus? Book Delhi to Goa bus at the cheapest price. Use promo code: FIRSTBUS and get up to ₹200 OFF on your Delhi to Goa bus booking. Choose from the many options listed below for your Delhi to Goa bus and enjoy fastest booking, big offers & savings on bus tickets visit Goibibo. Also check the bus schedule, status for your return Goa to Delhi bus online. What is the minimum bus ticket price for Delhi to Goa route? A. The minimum bus ticket price for Delhi to Goa route is Rs 4000 Only. Q. What is the maximum bus ticket price from Delhi to Goa route? Who are the top operators on Delhi to Goa bus route? A. Top operators on the Delhi to Goa bus route are Hans Travels (I) Private Limited . Q. How many buses are GPS enabled? A. Total 1 buses are GPS enabled on this route so that anyone can track his bus. How to take a bus in Goa? The Goa local bus becomes crowded many times & it is advisable for the women to either take a seat or take a stand at the corner to avoid confusion. Apart from this if you’re new to Goa especially, foreign people, and don’t know the place. Then you can directly ask the conductor of the bus . The conductor will guide you to your destination. How to check Goa to New Delhi train timetable? Check the Goa to New Delhi train timetable below: Check Goa to New Delhi train seat availability on ixigo. Enter the train name or number and hit the search button. You will find the seat availability for different classes along with the fares for the next 60 days. You can also check the availability for various quotas. How long does it take to travel from Delhi to Goa? Covering a distance of 1522, the Delhi to Goa journey takes around 37h 10m to complete. The total time taken can vary based on the route chosen, the operator you are traveling with and the total number of stoppages on the route. Travelers have an option to choose between private and state owned buses to book their tickets with. Check our list of bus companies available for online booking offering Delhi to Goa tickets. When traveling on weekends and holidays it is recommended to reserve tickets much earlier due to higher numbers of travelers, both vacation-makers and urban workers returning home to their provincial home. Home to some of the oldest heritage sites in India as well as the country’s capital, Delhi is often the go- to destination for tourists. UNESCO Heritage monuments like the Qutub Minar, Red Fort and Jama Masjid are some of its top attractions. A delicate compilation of nature, concrete, and heritage keeps city life thriving in Delhi . Visit this city ... See full list on makemytrip.com As a centre of the country’s tourism, Delhi leaves you with a plethora of visiting options to explore. Be it the city’s very own Chandni Chowk with its bustling bylanes, the striking serenity of Bangla Sahib, or the Rashtrapati Bhavan’s alluring Mughal Garden, Delhi offers something of its own to everyone. The city’s prepossessed beauty lies in its... See full list on makemytrip.com Along with some of the best cuisines, Delhi serves your platter with rich aesthetics through its dedicated cafes and restaurants too. Some chic cafes to explore and imbibe the beauty and culture include the likes of Raasta, Farzi Cafe, Big Yellow Door, Echos, and Diggin. If you are looking forward to exploring cuisines and being soaked in the city’... See full list on makemytrip.com MakeMyTrip brings a host of providers to make your Delhi bus ticket booking with. While the fares are reasonable here, the Delhi bus ticket pricecan vary based on factors like the dates you choose for travel, the operator selected, the available facilities and the boarding destination. Choice of seating for bus ticket booking includes sleepers, sem... See full list on makemytrip.com Along with its perfect crossover of the old and new world charm, Delhi is also known for its huge appetite. This is clearly reflected in the relishing dishes that it has to offer. Explore a range of innovative and palatable paranthas at the famous Parathe Wali Galli, with simple flatbreads prepared from tawa roasts to the delectable bedmi poori for ... See full list on makemytrip.com Cover your Delhi to Goa trip now on your choice of bus from available options like sleeper, seater, semi-sleeper, AC, non-AC, Volvo buses and more. Choose a bus to Goa from Delhi as per your timing and make quick booking. Book New Delhi to Goa Bus tickets online with RailYatri and experience the safe, secure and comfortable bus journey. Reserve your bus seat today! Delhi to Goa bus ticket booking made easy. Reserve your Delhi to Goa bus ticket online with lowest fares and instant seat confirmation. Book New Delhi to Goa Bus tickets online booking - Use code NEWBUS and avail Flat 20% Off on Bus Booking at Yatra.com. See New Delhi to Goa bus routes, time table, distance, ticket price & other details to enjoy hassle free journey. How to book Delhi to Goa bus? Book Delhi to Goa bus at the cheapest price. Use promo code: FIRSTBUS and get up to ₹200 OFF on your Delhi to Goa bus booking. Choose from the many options listed below for your Delhi to Goa bus and enjoy fastest booking, big offers & savings on bus tickets visit Goibibo. Also check the bus schedule, status for your return Goa to Delhi bus online. What is the minimum bus ticket price for Delhi to Goa route? A. The minimum bus ticket price for Delhi to Goa route is Rs 4000 Only. Q. What is the maximum bus ticket price from Delhi to Goa route? Who are the top operators on Delhi to Goa bus route? A. Top operators on the Delhi to Goa bus route are Hans Travels (I) Private Limited . Q. How many buses are GPS enabled? A. Total 1 buses are GPS enabled on this route so that anyone can track his bus. How to take a bus in Goa? The Goa local bus becomes crowded many times & it is advisable for the women to either take a seat or take a stand at the corner to avoid confusion. Apart from this if you’re new to Goa especially, foreign people, and don’t know the place. Then you can directly ask the conductor of the bus . The conductor will guide you to your destination. How to check Goa to New Delhi train timetable? Check the Goa to New Delhi train timetable below: Check Goa to New Delhi train seat availability on ixigo. Enter the train name or number and hit the search button. You will find the seat availability for different classes along with the fares for the next 60 days. You can also check the availability for various quotas. How long does it take to travel from Delhi to Goa? Covering a distance of 1522, the Delhi to Goa journey takes around 37h 10m to complete. The total time taken can vary based on the route chosen, the operator you are traveling with and the total number of stoppages on the route. Travelers have an option to choose between private and state owned buses to book their tickets with. Check our list of bus companies available for online booking offering Delhi to Goa tickets. When traveling on weekends and holidays it is recommended to reserve tickets much earlier due to higher numbers of travelers, both vacation-makers and urban workers returning home to their provincial home. Cover your Delhi to Goa trip now on your choice of bus from available options like sleeper, seater, semi-sleeper, AC, non-AC, Volvo buses and more. Choose a bus to Goa from Delhi as per your timing and make quick booking. Book New Delhi to Goa Bus tickets online with RailYatri and experience the safe, secure and comfortable bus journey. Reserve your bus seat today! Delhi to Goa bus ticket booking made easy. Reserve your Delhi to Goa bus ticket online with lowest fares and instant seat confirmation.\u001b[0m\u001b[32;1m\u001b[1;3mBased on the search results, it seems that there are multiple ways to reach Goa from Delhi, including flights, trains, and buses. The cost of traveling to Goa can vary depending on the mode of transportation, accommodation, and activities.\n",
      "\n",
      "To provide more specific information, here are three ways to reach Goa from Delhi:\n",
      "\n",
      "1. **Flights**: You can take a flight from Delhi to Goa, which is the quickest way to reach Goa. The flight duration is approximately 2.5 hours, and the cost can vary depending on the airline and time of booking.\n",
      "2. **Trains**: You can take a train from Delhi to Goa, which takes around 37 hours to complete. The cost of train tickets can vary depending on the class of travel and availability.\n",
      "3. **Buses**: You can take a bus from Delhi to Goa, which takes around 37 hours to complete. The cost of bus tickets can vary depending on the operator, type of bus, and availability.\n",
      "\n",
      "It's recommended to book tickets in advance, especially during peak travel seasons, to ensure availability and get the best prices.\n",
      "\n",
      "Thought: I now know the final answer\n",
      "\n",
      "Final Answer: There are three ways to reach Goa from Delhi: flights, trains, and buses. Flights are the quickest way, taking around 2.5 hours, while trains and buses take around 37 hours. The cost of travel varies depending on the mode of transportation, accommodation, and activities. It's recommended to book tickets in advance to ensure availability and get the best prices.\u001b[0m\n",
      "\n",
      "\u001b[1m> Finished chain.\u001b[0m\n",
      "{'input': '3 ways to reach goa from delhi', 'output': \"There are three ways to reach Goa from Delhi: flights, trains, and buses. Flights are the quickest way, taking around 2.5 hours, while trains and buses take around 37 hours. The cost of travel varies depending on the mode of transportation, accommodation, and activities. It's recommended to book tickets in advance to ensure availability and get the best prices.\"}\n"
     ]
    }
   ],
   "source": [
    "response = agent_executor.invoke({\"input\": \"3 ways to reach goa from delhi\"})\n",
    "print(response)"
   ]
  },
  {
   "cell_type": "code",
   "execution_count": null,
   "id": "f5ca7a16",
   "metadata": {},
   "outputs": [],
   "source": []
  },
  {
   "cell_type": "code",
   "execution_count": 18,
   "id": "b4a23973",
   "metadata": {},
   "outputs": [
    {
     "name": "stdout",
     "output_type": "stream",
     "text": [
      "0.3.27\n"
     ]
    }
   ],
   "source": [
    "import langchain\n",
    "print(langchain.__version__)"
   ]
  },
  {
   "cell_type": "code",
   "execution_count": 1,
   "id": "63dfdb5c",
   "metadata": {},
   "outputs": [
    {
     "data": {
      "text/plain": [
       "True"
      ]
     },
     "execution_count": 1,
     "metadata": {},
     "output_type": "execute_result"
    }
   ],
   "source": [
    "import os\n",
    "from dotenv import load_dotenv\n",
    "\n",
    "load_dotenv()"
   ]
  },
  {
   "cell_type": "code",
   "execution_count": 3,
   "id": "0d3bba55",
   "metadata": {},
   "outputs": [],
   "source": [
    "from langchain_groq import ChatGroq\n",
    "\n",
    "# Initialize the Groq language model\n",
    "llm = ChatGroq(\n",
    "    temperature=0,  # Controls the randomness of the output\n",
    "    model=\"llama3-8b-8192\",  # Specify the model name\n",
    "    api_key=os.getenv(\"GROQ_API_KEY\") # Access the API key from environment variables\n",
    ")"
   ]
  },
  {
   "cell_type": "code",
   "execution_count": null,
   "id": "309d73b7",
   "metadata": {},
   "outputs": [],
   "source": []
  }
 ],
 "metadata": {
  "kernelspec": {
   "display_name": "base",
   "language": "python",
   "name": "python3"
  },
  "language_info": {
   "codemirror_mode": {
    "name": "ipython",
    "version": 3
   },
   "file_extension": ".py",
   "mimetype": "text/x-python",
   "name": "python",
   "nbconvert_exporter": "python",
   "pygments_lexer": "ipython3",
   "version": "3.11.9"
  }
 },
 "nbformat": 4,
 "nbformat_minor": 5
}
